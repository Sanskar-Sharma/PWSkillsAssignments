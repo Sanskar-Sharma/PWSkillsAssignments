{
 "cells": [
  {
   "cell_type": "code",
   "execution_count": 1,
   "metadata": {},
   "outputs": [],
   "source": [
    "str_var = \"Hello\"\n",
    "list_var =[1,3,\"hey\"]\n",
    "float_var = 3.14\n",
    "tup_var = (3,6,8)"
   ]
  },
  {
   "attachments": {},
   "cell_type": "markdown",
   "metadata": {},
   "source": [
    "Q2. Given are some following variables containing data:\n",
    "\n",
    "(i) var1 = ‘ ‘ \n",
    ">string\n",
    "\n",
    "(ii) var2 = ‘[ DS , ML , Python]’\n",
    ">string\n",
    "\n",
    "(iii) var3 = [ ‘DS’ , ’ML’ , ‘Python’ ]\n",
    "> list\n",
    "\n",
    "(iv) var4 = 1.\n",
    " > float\n",
    " "
   ]
  },
  {
   "cell_type": "code",
   "execution_count": 6,
   "metadata": {},
   "outputs": [
    {
     "name": "stdout",
     "output_type": "stream",
     "text": [
      "4.0\n",
      "4.5\n",
      "3\n",
      "16\n"
     ]
    }
   ],
   "source": [
    "# Q3. Explain the use of the following operators using an example:\n",
    "# (i) / > divide the numbers\n",
    "i = 8/2\n",
    "# (ii) % > gets the remainder\n",
    "ii = 9/2\n",
    "# (iii) // > gives the floor value/nearest divisor value\n",
    "iii = 10//3\n",
    "# (iv) ** > raised to operator\n",
    "iv = 4**2\n",
    "\n",
    "print(i,ii,iii,iv,sep=\"\\n\")"
   ]
  },
  {
   "cell_type": "code",
   "execution_count": 11,
   "metadata": {},
   "outputs": [
    {
     "name": "stdout",
     "output_type": "stream",
     "text": [
      "1 and its type is : <class 'int'>\n",
      "2.4 and its type is : <class 'float'>\n",
      "three and its type is : <class 'str'>\n",
      "N and its type is : <class 'str'>\n",
      "True and its type is : <class 'bool'>\n",
      "6 and its type is : <class 'int'>\n",
      "8.8 and its type is : <class 'float'>\n",
      "nine and its type is : <class 'str'>\n",
      "-1 and its type is : <class 'int'>\n"
     ]
    }
   ],
   "source": [
    "l = [1,2.4,\"three\",'N',True,6,8.8,'nine',-1]\n",
    "\n",
    "for i in l:\n",
    "    print(str(i) + \" and its type is : \"+ str(type(i)))"
   ]
  },
  {
   "cell_type": "code",
   "execution_count": 2,
   "metadata": {},
   "outputs": [
    {
     "name": "stdout",
     "output_type": "stream",
     "text": [
      "2\n"
     ]
    }
   ],
   "source": [
    "#q5\n",
    "A = int(input(\"Enter A\"))\n",
    "B = int(input(\"Enter B\"))\n",
    "\n",
    "count =0\n",
    "while (A%B == 0):\n",
    "    A =  A/B\n",
    "    count +=1\n",
    "else : print(count)\n",
    "\n"
   ]
  },
  {
   "cell_type": "code",
   "execution_count": 19,
   "metadata": {},
   "outputs": [
    {
     "name": "stdout",
     "output_type": "stream",
     "text": [
      "[60, 11, 93, 90, 25, 37, 73, 73, 67, 8, 50, 16, 64, 45, 24, 89, 89, 59, 75, 35, 2, 15, 21, 83, 12]\n",
      "60 is divisible by 3\n",
      "11 is not divisible\n",
      "93 is divisible by 3\n",
      "90 is divisible by 3\n",
      "25 is not divisible\n",
      "37 is not divisible\n",
      "73 is not divisible\n",
      "73 is not divisible\n",
      "67 is not divisible\n",
      "8 is not divisible\n",
      "50 is not divisible\n",
      "16 is not divisible\n",
      "64 is not divisible\n",
      "45 is divisible by 3\n",
      "24 is divisible by 3\n",
      "89 is not divisible\n",
      "89 is not divisible\n",
      "59 is not divisible\n",
      "75 is divisible by 3\n",
      "35 is not divisible\n",
      "2 is not divisible\n",
      "15 is divisible by 3\n",
      "21 is divisible by 3\n",
      "83 is not divisible\n",
      "12 is divisible by 3\n"
     ]
    }
   ],
   "source": [
    "import random\n",
    "L =  [random.randint(1,99) for i in range(25)]\n",
    "print(L)\n",
    "for i in L:\n",
    "    if i%3 == 0:\n",
    "        print(f\"{i} is divisible by 3\")\n",
    "    else : print(f\"{i} is not divisible\")\n",
    "\n"
   ]
  },
  {
   "cell_type": "code",
   "execution_count": 22,
   "metadata": {},
   "outputs": [
    {
     "name": "stdout",
     "output_type": "stream",
     "text": [
      "Immutable I cant change\n",
      "[1, 'Two'] I can change\n"
     ]
    }
   ],
   "source": [
    "#What do you understand about mutable and immutable data types? Give examples for both showing\n",
    "# this property.\n",
    "# mutable are those which can be changed and mmutable which cannot\n",
    "\n",
    "A = 'Immutable'\n",
    "try:\n",
    "    A[3] = \"M\"\n",
    "except: print(A,\"I cant change\")\n",
    "\n",
    "B = [1,2]\n",
    "try:\n",
    "    B[1]= \"Two\"\n",
    "    print(B,\"I can change\")\n",
    "except: print(\"i will never print\")"
   ]
  }
 ],
 "metadata": {
  "kernelspec": {
   "display_name": "Python 3",
   "language": "python",
   "name": "python3"
  },
  "language_info": {
   "codemirror_mode": {
    "name": "ipython",
    "version": 3
   },
   "file_extension": ".py",
   "mimetype": "text/x-python",
   "name": "python",
   "nbconvert_exporter": "python",
   "pygments_lexer": "ipython3",
   "version": "3.11.3"
  },
  "orig_nbformat": 4
 },
 "nbformat": 4,
 "nbformat_minor": 2
}
